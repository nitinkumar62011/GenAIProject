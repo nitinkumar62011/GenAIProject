{
 "cells": [
  {
   "cell_type": "code",
   "execution_count": null,
   "metadata": {},
   "outputs": [],
   "source": [
    "import pandas as pd \n",
    "import numpy as np \n",
    "import openai\n"
   ]
  },
  {
   "cell_type": "code",
   "execution_count": null,
   "metadata": {},
   "outputs": [],
   "source": [
    "df=pd.read_csv('book_dataset.csv')\n",
    "df.dropna(inplace=True)\n",
    "df=df.sort_values('average_rating',asscending=False).head(2000)\n",
    "df"
   ]
  },
  {
   "cell_type": "code",
   "execution_count": null,
   "metadata": {},
   "outputs": [],
   "source": [
    "import tiktoken\n",
    "enc=tiktoken.encoding_for_model('test-embedding-ada-002')\n",
    "\n",
    "descrptions=list(df['descrption'])\n",
    "total_tokens=sum([len(enc.encode(item)) for item in descrptions])\n",
    "print(f\"Total tokens :{total_tokens}\")\n",
    "cost=total_tokens*(0.0004/1000)\n",
    "print(f'Estimated cost in USD: '{cost*83.54})"
   ]
  },
  {
   "cell_type": "code",
   "execution_count": null,
   "metadata": {},
   "outputs": [],
   "source": []
  },
  {
   "cell_type": "markdown",
   "metadata": {},
   "source": [
    "# calculate the cache memory"
   ]
  },
  {
   "cell_type": "code",
   "execution_count": null,
   "metadata": {},
   "outputs": [],
   "source": []
  },
  {
   "cell_type": "code",
   "execution_count": null,
   "metadata": {},
   "outputs": [],
   "source": []
  },
  {
   "cell_type": "code",
   "execution_count": null,
   "metadata": {},
   "outputs": [],
   "source": [
    "def get_embedding_and_save_to_csv(embedding_cache_file):\n",
    "    from openai.embedding_utils import get_embedding_and_save_to_csv\n",
    "    df['embedding']=df[description].apply(lambda x:get_embedding(x,engine='text-embedding-ada-002'))\n",
    "    df.to_csv(embedding_cache_file)"
   ]
  },
  {
   "cell_type": "code",
   "execution_count": null,
   "metadata": {},
   "outputs": [],
   "source": [
    "embedding_cache_file='book_embedding.csv'\n",
    "get_embedding_and_save_to_csv(embedding_cache_file)"
   ]
  },
  {
   "cell_type": "code",
   "execution_count": null,
   "metadata": {},
   "outputs": [],
   "source": [
    "embedding_cache_file='book_embedding.csv'\n",
    "df_embeddding=read_csv(embedding_cache_file)\n",
    "df_embeddding['embedding']"
   ]
  }
 ],
 "metadata": {
  "language_info": {
   "name": "python"
  }
 },
 "nbformat": 4,
 "nbformat_minor": 2
}
