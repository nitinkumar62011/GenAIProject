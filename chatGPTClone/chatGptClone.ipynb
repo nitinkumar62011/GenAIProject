{
 "cells": [
  {
   "cell_type": "code",
   "execution_count": 1,
   "metadata": {},
   "outputs": [],
   "source": [
    "import os\n",
    "import openai"
   ]
  },
  {
   "cell_type": "code",
   "execution_count": 5,
   "metadata": {},
   "outputs": [],
   "source": [
    "#openai.api_key=open('key.txt').read().strip('\\n')"
   ]
  },
  {
   "cell_type": "code",
   "execution_count": 4,
   "metadata": {},
   "outputs": [],
   "source": [
    "q1=\"what are the healthiest food to eat everyday\"\n",
    "q2=\"Make a recipe with those foods\"\n",
    "q3=\"when should we eat ?\""
   ]
  },
  {
   "cell_type": "code",
   "execution_count": null,
   "metadata": {},
   "outputs": [],
   "source": [
    "# for Q1 \n",
    "messages=[\n",
    "    {'role':'system','content':'Answer as concisely as possible dont add any extra information'},\n",
    "    {'role':'user','content':q1}\n",
    "]\n",
    "response=openai.ChatCompletion.create(\n",
    "    model='gpt-3.5-turbo',\n",
    "    messages=messages,\n",
    "    temperature=0.7\n",
    ")\n",
    "response1=response.choices[0]['message']['content']\n",
    "print(response1)\n",
    "print()\n",
    "print(\"---\"*20)\n",
    "# for Q2\n",
    "messages=[\n",
    "    {'role':'system','content':'Answer as concisely as possible dont add any extra information'},\n",
    "    {'role':'user','content':q1}\n",
    "    ,\n",
    "    {'role':'assistant','content':response1},\n",
    "    {'role':'user','content':q2}\n",
    "]\n",
    "response=openai.ChatCompletion.create(\n",
    "    model='gpt-3.5-turbo',\n",
    "    messages=messages,\n",
    "    temperature=0.7\n",
    ")\n",
    "response2=response.choices[0]['message']['content']\n",
    "print(response2)\n",
    "print()\n",
    "print(\"---\"*20)\n",
    "# for q3\n",
    "messages=[\n",
    "    {'role':'system','content':'Answer as concisely as possible dont add any extra information'},\n",
    "    {'role':'user','content':q1}\n",
    "    ,\n",
    "    {'role':'assistant','content':response1},\n",
    "    {'role':'user','content':q2}\n",
    "    \n",
    "        ,\n",
    "    {'role':'assistant','content':response2},\n",
    "    {'role':'user','content':q3}\n",
    "    \n",
    "    \n",
    "]\n",
    "response=openai.ChatCompletion.create(\n",
    "    model='gpt-3.5-turbo',\n",
    "    messages=messages,\n",
    "    temperature=0.7\n",
    ")\n",
    "response3=response.choices[0]['message']['content']\n",
    "print(response3)\n",
    "print()\n",
    "print(\"---\"*20)"
   ]
  },
  {
   "cell_type": "markdown",
   "metadata": {},
   "source": [
    "# project in running Mode"
   ]
  },
  {
   "cell_type": "code",
   "execution_count": null,
   "metadata": {},
   "outputs": [],
   "source": [
    "\n",
    "import time\n",
    "question=[]\n",
    "bot_response=list()\n",
    "message=list()\n",
    "system_prompt=input(\"System prompt :\")\n",
    "message.append({'role':'system','content':system_prompt})\n",
    "while True:\n",
    "    cureent_question=input(\"Me :\")\n",
    "    if cureent_question.lower() in ['exit','quit']:\n",
    "        print(\"chat Bot : I was happy to assist you , Bye bye !\")\n",
    "        time.sleep(3)\n",
    "        break\n",
    "    if cureent_question.lower()=='':\n",
    "        continue\n",
    "    message.append({'role':'user','content':cureent_question})\n",
    "    question.append(cureent_question)\n",
    "    \n",
    "    response=openai.ChatCompletion.create(\n",
    "    model='gpt-3.5-turbo',\n",
    "    messages=message,\n",
    "    temperature=0.7\n",
    "    )\n",
    "    response_=response.choices[0]['message']['content']\n",
    "    bot_response.append(response_)\n",
    "    \n",
    "    print(f\"chat bot :{response_}\")\n",
    "    print()\n",
    "    print(\"---\"*20)\n",
    "    message.append({'role':'assistant','content':response_})\n",
    "    print()\n",
    "    print(\"---\"*20)\n",
    "    "
   ]
  }
 ],
 "metadata": {
  "kernelspec": {
   "display_name": "Python 3",
   "language": "python",
   "name": "python3"
  },
  "language_info": {
   "codemirror_mode": {
    "name": "ipython",
    "version": 3
   },
   "file_extension": ".py",
   "mimetype": "text/x-python",
   "name": "python",
   "nbconvert_exporter": "python",
   "pygments_lexer": "ipython3",
   "version": "3.11.8"
  }
 },
 "nbformat": 4,
 "nbformat_minor": 2
}
