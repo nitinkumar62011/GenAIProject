{
 "cells": [
  {
   "cell_type": "code",
   "execution_count": 1,
   "metadata": {},
   "outputs": [],
   "source": [
    "import os\n",
    "import openai\n",
    "\n",
    "import  time"
   ]
  },
  {
   "cell_type": "code",
   "execution_count": 3,
   "metadata": {},
   "outputs": [],
   "source": [
    "with open('key.txt','w') as f:\n",
    "    f.write(\"sk sdfdfdfn55jjnjn5jn5jdoshkg\")"
   ]
  },
  {
   "cell_type": "code",
   "execution_count": 4,
   "metadata": {},
   "outputs": [],
   "source": [
    "#openai.api_key=open('key.txt').read().strip('\\n')"
   ]
  },
  {
   "cell_type": "code",
   "execution_count": 5,
   "metadata": {},
   "outputs": [
    {
     "ename": "AssertionError",
     "evalue": "Error loading the api key . The api key start with 'sk-'",
     "output_type": "error",
     "traceback": [
      "\u001b[1;31m---------------------------------------------------------------------------\u001b[0m",
      "\u001b[1;31mAssertionError\u001b[0m                            Traceback (most recent call last)",
      "Cell \u001b[1;32mIn[5], line 3\u001b[0m\n\u001b[0;32m      1\u001b[0m \u001b[38;5;28;01mwith\u001b[39;00m \u001b[38;5;28mopen\u001b[39m(\u001b[38;5;124m'\u001b[39m\u001b[38;5;124mkey.txt\u001b[39m\u001b[38;5;124m'\u001b[39m) \u001b[38;5;28;01mas\u001b[39;00m f:\n\u001b[0;32m      2\u001b[0m     api_key\u001b[38;5;241m=\u001b[39mf\u001b[38;5;241m.\u001b[39mread()\u001b[38;5;241m.\u001b[39mstrip(\u001b[38;5;124m'\u001b[39m\u001b[38;5;130;01m\\n\u001b[39;00m\u001b[38;5;124m'\u001b[39m)\n\u001b[1;32m----> 3\u001b[0m     \u001b[38;5;28;01massert\u001b[39;00m api_key\u001b[38;5;241m.\u001b[39mstartswith(\u001b[38;5;124m'\u001b[39m\u001b[38;5;124msk-\u001b[39m\u001b[38;5;124m'\u001b[39m),\u001b[38;5;124m\"\u001b[39m\u001b[38;5;124mError loading the api key . The api key start with \u001b[39m\u001b[38;5;124m'\u001b[39m\u001b[38;5;124msk-\u001b[39m\u001b[38;5;124m'\u001b[39m\u001b[38;5;124m\"\u001b[39m\n\u001b[0;32m      4\u001b[0m     openai\u001b[38;5;241m.\u001b[39mapi_key\u001b[38;5;241m=\u001b[39mapi_key\n",
      "\u001b[1;31mAssertionError\u001b[0m: Error loading the api key . The api key start with 'sk-'"
     ]
    }
   ],
   "source": [
    "with open('key.txt') as f:\n",
    "    api_key=f.read().strip('\\n')\n",
    "    assert api_key.startswith('sk-'),\"Error loading the api key . The api key start with 'sk-'\"\n",
    "    openai.api_key=api_key"
   ]
  },
  {
   "cell_type": "code",
   "execution_count": null,
   "metadata": {},
   "outputs": [],
   "source": [
    "def create_meals(ingredients,kcal=3000):\n",
    "    prompt=f''' Create a healthy daily meal plan for breakfast ,lunch and dinner based on the folloeing ingridents{ingredients}\n",
    "    explain the each step of recipe\n",
    "    the total daily intake kcal should be below {kcal}\n",
    "    Assign a suggestive and concise title of each meal.\n",
    "    your answer should end with 'Titles : ' and the title of each recipe.\n",
    "    '''\n",
    "    message=[\n",
    "        {'role':'sytem','content':'you are a talented cook'},\n",
    "        {'role':'user','content':prompt}\n",
    "    ]\n",
    "    response=openai.ChatCompletion.create(\n",
    "    model='gpt-3.5-turbo',\n",
    "    messages=message,\n",
    "    temperature=0.7\n",
    "    )\n",
    "    response_=response.choices[0]['message']['content']\n",
    "    return response\n",
    "\n",
    "foods='broccoli ,chicken,cucmber,cabbage, eggs ,olive oil'\n",
    "output=create_meals(foods)\n",
    "print(output)"
   ]
  },
  {
   "cell_type": "code",
   "execution_count": null,
   "metadata": {},
   "outputs": [],
   "source": []
  },
  {
   "cell_type": "markdown",
   "metadata": {},
   "source": [
    "# Generate it in image"
   ]
  },
  {
   "cell_type": "markdown",
   "metadata": {},
   "source": [
    "titles=output.splitlines()[-3:]"
   ]
  },
  {
   "cell_type": "code",
   "execution_count": null,
   "metadata": {},
   "outputs": [],
   "source": [
    "titles=[t.strip('- ') for t in titles]"
   ]
  },
  {
   "cell_type": "code",
   "execution_count": 6,
   "metadata": {},
   "outputs": [],
   "source": [
    "from PIL import Image\n",
    "import requests\n",
    "import shutil\n",
    "def create_and_save_image(title,extra= ''):\n",
    "    image_propmt=f'{titles},{extra},high quality food photography'\n",
    "    response=openai.image.create(\n",
    "    \n",
    "    prompt=image_propmt,\n",
    "    n=1,\n",
    "    size='1024*1024'\n",
    "    )\n",
    "    image_url=response['data'][0]['url']\n",
    "    image_resource=requests.get(image_url,stream=True)\n",
    "    \n",
    "    image_file_name=f\"{title}.png\"\n",
    "    if image_resource.status_code==200:\n",
    "        with open(image_file_name,'wb') as f:\n",
    "            shutil.copyfileobj(image_resource.raw,f)\n",
    "            return image_file_name\n",
    "    else:\n",
    "        print(\"Error accessing the image\")\n",
    "        return False\n",
    "image_file_name=create_and_save_image(titles[0],'white background')\n",
    "Image.open(image_file_name)\n"
   ]
  },
  {
   "cell_type": "markdown",
   "metadata": {},
   "source": [
    "# for all food"
   ]
  },
  {
   "cell_type": "code",
   "execution_count": null,
   "metadata": {},
   "outputs": [],
   "source": [
    "for _ in range(len(titles)):\n",
    "    image_file_name=create_and_save_image(titles[_],'white background')\n",
    "    Image.open(image_file_name)\n",
    "    "
   ]
  },
  {
   "cell_type": "code",
   "execution_count": null,
   "metadata": {},
   "outputs": [],
   "source": []
  }
 ],
 "metadata": {
  "kernelspec": {
   "display_name": "Python 3",
   "language": "python",
   "name": "python3"
  },
  "language_info": {
   "codemirror_mode": {
    "name": "ipython",
    "version": 3
   },
   "file_extension": ".py",
   "mimetype": "text/x-python",
   "name": "python",
   "nbconvert_exporter": "python",
   "pygments_lexer": "ipython3",
   "version": "3.11.8"
  }
 },
 "nbformat": 4,
 "nbformat_minor": 2
}
