{
 "cells": [
  {
   "cell_type": "code",
   "execution_count": null,
   "metadata": {},
   "outputs": [],
   "source": [
    "import numpy as np \n",
    "import openai\n"
   ]
  },
  {
   "cell_type": "code",
   "execution_count": null,
   "metadata": {},
   "outputs": [],
   "source": [
    "with open('key.txt') as f:\n",
    "    api_key=f.read().strip('\\n')\n",
    "    assert api_key.startswith('sk-'),\"Error loading the api key . The api key start with 'sk-'\"\n",
    "    openai.api_key=api_key"
   ]
  },
  {
   "cell_type": "code",
   "execution_count": null,
   "metadata": {},
   "outputs": [],
   "source": [
    "my_text=\"Open\"\n",
    "my_text=my_text.replace(\"\\n\",' ')\n",
    "embedding_vector=openai.Embedding.create(\n",
    "    input=my_text,\n",
    "    model=\"text-embedding-ada-002\"\n",
    ")\n",
    "embedding_vector['data'][0]['embedding']"
   ]
  },
  {
   "cell_type": "code",
   "execution_count": null,
   "metadata": {},
   "outputs": [],
   "source": [
    "from openai.embedding import get_embedding"
   ]
  },
  {
   "cell_type": "code",
   "execution_count": null,
   "metadata": {},
   "outputs": [],
   "source": [
    "em=get_embedding('open',engine='text-embedding-ada-002')\n",
    "em"
   ]
  },
  {
   "cell_type": "code",
   "execution_count": null,
   "metadata": {},
   "outputs": [],
   "source": [
    "import tiktoken\n",
    "import pandas as pd\n",
    "words=pd.read_csv('words.csv')\n",
    "words.head()"
   ]
  },
  {
   "cell_type": "markdown",
   "metadata": {},
   "source": [
    "# finding similarities using Embedding"
   ]
  },
  {
   "cell_type": "code",
   "execution_count": null,
   "metadata": {},
   "outputs": [],
   "source": [
    "enc=tiktoken.encoding_for_model('test-embedding-ada-002')\n",
    "len(len(enc.ecode('above us only sky')))"
   ]
  },
  {
   "cell_type": "code",
   "execution_count": null,
   "metadata": {},
   "outputs": [],
   "source": [
    "words=list(df['text'])\n",
    "total_tokens=sum([len(enc.encode(word)) for word in words])\n",
    "print(f\"Total tokens :{total_tokens}\")\n",
    "cost=total_tokens*(0.0004/1000)\n",
    "print(f'Estimated cost in USD: '{cost*83.54})"
   ]
  },
  {
   "cell_type": "code",
   "execution_count": null,
   "metadata": {},
   "outputs": [],
   "source": [
    "import openai\n",
    "from openai.embedding_utils import get_embedding"
   ]
  },
  {
   "cell_type": "code",
   "execution_count": null,
   "metadata": {},
   "outputs": [],
   "source": [
    "data['embeddding']=data['text'].apply(lambda x:get_embedding(x,engine='text-embedding-ada-002'))"
   ]
  },
  {
   "cell_type": "code",
   "execution_count": null,
   "metadata": {},
   "outputs": [],
   "source": [
    "data"
   ]
  },
  {
   "cell_type": "code",
   "execution_count": null,
   "metadata": {},
   "outputs": [],
   "source": [
    "data.to_csv('embedding.csv',index=False)"
   ]
  },
  {
   "cell_type": "code",
   "execution_count": null,
   "metadata": {},
   "outputs": [],
   "source": []
  },
  {
   "cell_type": "markdown",
   "metadata": {},
   "source": [
    "# Performing semantic search"
   ]
  },
  {
   "cell_type": "code",
   "execution_count": null,
   "metadata": {},
   "outputs": [],
   "source": [
    "df=pd.read_csv('embedding.csv')\n",
    "df['embedding']=df['embedding'].aplly(eval).applay(np.array)"
   ]
  },
  {
   "cell_type": "code",
   "execution_count": null,
   "metadata": {},
   "outputs": [],
   "source": [
    "search_term='open'\n",
    "search_term_vector=get_embedding(search_term,engine='text-embedding-ada-002')\n",
    "from openai.embedding_utils import cosine_similarity\n",
    "df['similar']=df['embedding'].apply(lambda x:cosine_similarity(x,search_term_vector))\n",
    "df=df.sort_values('similar',ascending=False)\n",
    "df"
   ]
  },
  {
   "cell_type": "code",
   "execution_count": null,
   "metadata": {},
   "outputs": [],
   "source": [
    "df=pd.read_csv('embedding.csv')\n",
    "df['embedding']=df['embedding'].aplly(eval).applay(np.array)"
   ]
  },
  {
   "cell_type": "code",
   "execution_count": null,
   "metadata": {},
   "outputs": [],
   "source": [
    "v1=df['embedding'].iloc[20]\n",
    "v2=df['embedding'].iloc[21]\n",
    "v=v1+v2\n",
    "df['similar']=df['embedding'].apply(lambda x:cosine_similarity(x,v))\n",
    "df=df.sort_values('similar',ascending=False)\n",
    "df\n",
    "\n"
   ]
  }
 ],
 "metadata": {
  "language_info": {
   "name": "python"
  }
 },
 "nbformat": 4,
 "nbformat_minor": 2
}
